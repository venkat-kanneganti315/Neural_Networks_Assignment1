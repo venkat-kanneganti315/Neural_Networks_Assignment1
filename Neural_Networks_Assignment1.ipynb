{
  "nbformat": 4,
  "nbformat_minor": 0,
  "metadata": {
    "colab": {
      "provenance": []
    },
    "kernelspec": {
      "name": "python3",
      "display_name": "Python 3"
    },
    "language_info": {
      "name": "python"
    }
  },
  "cells": [
    {
      "cell_type": "code",
      "execution_count": 16,
      "metadata": {
        "colab": {
          "base_uri": "https://localhost:8080/"
        },
        "id": "r7fnkYwxfYLW",
        "outputId": "d3aaaf3b-ea84-4fc6-a6ef-964763794138"
      },
      "outputs": [
        {
          "output_type": "stream",
          "name": "stdout",
          "text": [
            "Enter the sample input:python\n",
            "python\n",
            "Removing the two charectors: pytn\n",
            "Reversing the string after removing the charectors: ntyp\n"
          ]
        }
      ],
      "source": [
        "val = input(\"Enter the sample input:\")\n",
        "print(val)\n",
        "deletingtwocharectors = val.translate({ord(i): None for i in \"oh\"})\n",
        "print(\"Removing the two charectors:\", deletingtwocharectors)\n",
        "print(\"Reversing the string after removing the charectors:\",deletingtwocharectors[::-1])\n",
        "\n",
        "\n",
        "\n",
        "\n"
      ]
    },
    {
      "cell_type": "code",
      "source": [],
      "metadata": {
        "id": "L8yc7djx3ZBE"
      },
      "execution_count": null,
      "outputs": []
    },
    {
      "cell_type": "code",
      "source": [
        "value1 = int(input(\"Enter the value 1:\"))\n",
        "print(value1)\n",
        "value2 = int(input(\"Enter the value 2:\"))\n",
        "print(value2)\n",
        "print(\"Add the value1 and value2:\", value1 + value2)\n",
        "print(\"Substract the value1 and value2:\", value1 - value2)\n",
        "print(\"Multiply the value1 and value2:\", value1 * value2)\n",
        "print(\"Divide the value1 and value2:\", value1 / value2)"
      ],
      "metadata": {
        "colab": {
          "base_uri": "https://localhost:8080/"
        },
        "id": "ZnUB6sRV3XKt",
        "outputId": "cca6ae00-6901-43f6-8f1b-590d6f0ad354"
      },
      "execution_count": 15,
      "outputs": [
        {
          "output_type": "stream",
          "name": "stdout",
          "text": [
            "Enter the value 1:200\n",
            "200\n",
            "Enter the value 2:100\n",
            "100\n",
            "Add the value1 and value2: 300\n",
            "Substract the value1 and value2: 100\n",
            "Multiply the value1 and value2: 20000\n",
            "Divide the value1 and value2: 2.0\n"
          ]
        }
      ]
    },
    {
      "cell_type": "code",
      "source": [
        "data = input(\"Enter the data:\")\n",
        "print(data)\n",
        "sentenceReplace = data.replace('python', 'pythons')\n",
        "print(\"After replacing the data:\", sentenceReplace)"
      ],
      "metadata": {
        "colab": {
          "base_uri": "https://localhost:8080/"
        },
        "id": "93wH4ORc3nag",
        "outputId": "f48e9a2f-14a5-4768-efa9-02cfc4b2c08e"
      },
      "execution_count": 21,
      "outputs": [
        {
          "output_type": "stream",
          "name": "stdout",
          "text": [
            "Enter the data:I love python\n",
            "I love python\n",
            "After replacing the data: I love pythons\n"
          ]
        }
      ]
    },
    {
      "cell_type": "code",
      "source": [
        "score = int(input(\"Enter the score that you scored:\"))\n",
        "if score >= 90:\n",
        "        print(\"A\")\n",
        "elif score >= 80:\n",
        "        print(\"B\")\n",
        "elif score >= 70:\n",
        "         print(\"C\")\n",
        "elif score >= 60:\n",
        "         print(\"D\")\n",
        "else:\n",
        "         print(\"F\")"
      ],
      "metadata": {
        "colab": {
          "base_uri": "https://localhost:8080/"
        },
        "id": "yNef8wTA58-m",
        "outputId": "a48f3971-3eaf-4873-ac9f-066617e37a9d"
      },
      "execution_count": 23,
      "outputs": [
        {
          "output_type": "stream",
          "name": "stdout",
          "text": [
            "Enter the score that you scored:50\n",
            "F\n"
          ]
        }
      ]
    }
  ]
}